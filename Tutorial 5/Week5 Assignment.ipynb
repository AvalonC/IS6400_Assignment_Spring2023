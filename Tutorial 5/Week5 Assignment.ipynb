{
 "cells": [
  {
   "attachments": {},
   "cell_type": "markdown",
   "metadata": {},
   "source": [
    "# Assignment 3\n",
    "57584800 WANG Guanzhang 15/02/2023 20:00"
   ]
  },
  {
   "cell_type": "code",
   "execution_count": 2,
   "metadata": {},
   "outputs": [],
   "source": [
    "import pandas as pd\n",
    "import matplotlib.pyplot as plt\n",
    "data = pd.read_csv('iris.txt',header=None)\n",
    "data.columns = ['sepal length', 'sepal width', 'petal length', 'petal width', 'class']"
   ]
  },
  {
   "attachments": {},
   "cell_type": "markdown",
   "metadata": {},
   "source": [
    "## 1. (20 points) Use pandas library to explore descriptive statistics of attribute 'sepal length' and 'sepal width' and their correlation. \n",
    "\n",
    "hint: you may use tool [pandas.describe](https://pandas.pydata.org/docs/reference/api/pandas.DataFrame.describe.html)."
   ]
  },
  {
   "cell_type": "code",
   "execution_count": 11,
   "metadata": {},
   "outputs": [
    {
     "name": "stdout",
     "output_type": "stream",
     "text": [
      "The descriptive statistics of speal length:\n",
      " count    150.000000\n",
      "mean       5.843333\n",
      "std        0.828066\n",
      "min        4.300000\n",
      "25%        5.100000\n",
      "50%        5.800000\n",
      "75%        6.400000\n",
      "max        7.900000\n",
      "Name: sepal length, dtype: float64\n",
      "----------\n",
      "The descriptive statistics of speal width:\n",
      " count    150.000000\n",
      "mean       3.054000\n",
      "std        0.433594\n",
      "min        2.000000\n",
      "25%        2.800000\n",
      "50%        3.000000\n",
      "75%        3.300000\n",
      "max        4.400000\n",
      "Name: sepal width, dtype: float64\n",
      "----------\n",
      "The correlation between them is: -0.10936924995064937\n"
     ]
    }
   ],
   "source": [
    "print(\"The descriptive statistics of speal length:\\n\",data['sepal length'].describe())\n",
    "print(\"----------\")\n",
    "print(\"The descriptive statistics of speal width:\\n\",data['sepal width'].describe())\n",
    "print(\"----------\")\n",
    "print(\"The correlation between them is:\",data['sepal length'].corr(data['sepal width'], method='pearson'))"
   ]
  },
  {
   "attachments": {},
   "cell_type": "markdown",
   "metadata": {},
   "source": [
    "## 2. (20 points) Change the bin of histogram from 10 to 15, plot your new histogram. What is the difference between histograms with different bin number?"
   ]
  },
  {
   "cell_type": "code",
   "execution_count": 8,
   "metadata": {},
   "outputs": [
    {
     "data": {
      "text/plain": [
       "<AxesSubplot:>"
      ]
     },
     "execution_count": 8,
     "metadata": {},
     "output_type": "execute_result"
    },
    {
     "data": {
      "image/png": "[encoded data removed]",
      "text/plain": [
       "<Figure size 432x288 with 1 Axes>"
      ]
     },
     "metadata": {
      "needs_background": "light"
     },
     "output_type": "display_data"
    }
   ],
   "source": [
    "data['petal width'].hist(bins=10)\n",
    "data['petal width'].hist(bins=15)"
   ]
  },
  {
   "attachments": {},
   "cell_type": "markdown",
   "metadata": {},
   "source": [
    "With the bins increase, the x-axis's range has been divided more detailed"
   ]
  },
  {
   "attachments": {},
   "cell_type": "markdown",
   "metadata": {},
   "source": [
    "## 3. (20 points) What is the 50 percentile, 75 percentile of petal length?"
   ]
  },
  {
   "cell_type": "code",
   "execution_count": 5,
   "metadata": {},
   "outputs": [
    {
     "name": "stdout",
     "output_type": "stream",
     "text": [
      "The 50 percentile of the petal length: 4.35\n",
      "The 75 percentile of the petal length: 5.1\n"
     ]
    }
   ],
   "source": [
    "print(\"The 50 percentile of the petal length:\", data['petal length'].quantile(0.5))\n",
    "print(\"The 75 percentile of the petal length:\", data['petal length'].quantile(0.75))"
   ]
  },
  {
   "attachments": {},
   "cell_type": "markdown",
   "metadata": {},
   "source": [
    "## 4. (20 points) Choose another pair of attribute to do the scatter plot. (please do not use the pair of sepal width - sepal length."
   ]
  },
  {
   "cell_type": "code",
   "execution_count": 6,
   "metadata": {},
   "outputs": [
    {
     "data": {
      "image/png": "[encoded data removed]",
      "text/plain": [
       "<Figure size 432x288 with 1 Axes>"
      ]
     },
     "metadata": {
      "needs_background": "light"
     },
     "output_type": "display_data"
    }
   ],
   "source": [
    "groups = data.groupby(\"class\")\n",
    "for name, group in groups:\n",
    "    plt.scatter(group['petal length'],group['sepal length'], marker=\"o\", label=name)\n",
    "plt.legend()\n",
    "plt.show()"
   ]
  },
  {
   "attachments": {},
   "cell_type": "markdown",
   "metadata": {},
   "source": [
    "## 5. (20 points) According to your scatter plot, can you provide some hints for classifying the different classes of Iris?"
   ]
  },
  {
   "attachments": {},
   "cell_type": "markdown",
   "metadata": {},
   "source": [
    "According to the length of the petal and sepal, we can identify that the setosa has both the shortest length, versicolor has a speal length between 5.0 ~ 7.0 with a petal length range from 3 ~ 5, and the virginica has a more widely speal length area from 5.5 ~ 8.0 with petal length from 4 ~ 7"
   ]
  }
 ],
 "metadata": {
  "kernelspec": {
   "display_name": "base",
   "language": "python",
   "name": "python3"
  },
  "language_info": {
   "codemirror_mode": {
    "name": "ipython",
    "version": 3
   },
   "file_extension": ".py",
   "mimetype": "text/x-python",
   "name": "python",
   "nbconvert_exporter": "python",
   "pygments_lexer": "ipython3",
   "version": "3.9.13"
  },
  "orig_nbformat": 4,
  "vscode": {
   "interpreter": {
    "hash": "ad2bdc8ecc057115af97d19610ffacc2b4e99fae6737bb82f5d7fb13d2f2c186"
   }
  }
 },
 "nbformat": 4,
 "nbformat_minor": 2
}
